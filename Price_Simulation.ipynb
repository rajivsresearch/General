{
  "nbformat": 4,
  "nbformat_minor": 0,
  "metadata": {
    "colab": {
      "name": "Price Simulation.ipynb",
      "provenance": [],
      "collapsed_sections": [],
      "authorship_tag": "ABX9TyNBexYYPOmRlvGaijw9Yito",
      "include_colab_link": true
    },
    "kernelspec": {
      "name": "python3",
      "display_name": "Python 3"
    }
  },
  "cells": [
    {
      "cell_type": "markdown",
      "metadata": {
        "id": "view-in-github",
        "colab_type": "text"
      },
      "source": [
        "<a href=\"https://colab.research.google.com/github/rajivsresearch/General/blob/master/Price_Simulation.ipynb\" target=\"_parent\"><img src=\"https://colab.research.google.com/assets/colab-badge.svg\" alt=\"Open In Colab\"/></a>"
      ]
    },
    {
      "cell_type": "code",
      "metadata": {
        "id": "D4AyC28y4q3e",
        "colab_type": "code",
        "colab": {}
      },
      "source": [
        "import pandas as pd\n",
        "import matplotlib.pyplot as plt\n",
        "import numpy as np\n",
        "pd.options.display.float_format = '{:,.2f}'.format"
      ],
      "execution_count": 0,
      "outputs": []
    },
    {
      "cell_type": "markdown",
      "metadata": {
        "id": "QArS_COmmfo4",
        "colab_type": "text"
      },
      "source": [
        "2 data frames: Number of Cumulative Units and number of units added"
      ]
    },
    {
      "cell_type": "code",
      "metadata": {
        "id": "YSPxJ2oW5xu-",
        "colab_type": "code",
        "colab": {}
      },
      "source": [
        "def get_units(x):\n",
        "  if x == 0:\n",
        "    arr = pd.DataFrame(data=np.sort(np.random.randint(20,500,36)))\n",
        "  else:\n",
        "    arr = pd.DataFrame(data=get_units_stable(x))\n",
        "\n",
        "  df0 = pd.DataFrame(data=arr.values.reshape((12,3), order='F'), index=np.arange(1,13), columns=[1,2,3])\n",
        "  df1 = pd.DataFrame(data=(arr - arr.shift()).fillna(arr[0]).values.reshape((12,3),order='F'), index=np.arange(1,13), columns=[1,2,3])\n",
        "  \n",
        "  return df0, df1"
      ],
      "execution_count": 0,
      "outputs": []
    },
    {
      "cell_type": "code",
      "metadata": {
        "id": "ZBvyYVwCOCF6",
        "colab_type": "code",
        "colab": {}
      },
      "source": [
        "def get_units_stable(x):\n",
        "  arr = np.sort(np.random.randint(20,500,x))\n",
        "  arr2 = np.zeros((36))\n",
        "\n",
        "  for i in np.arange(0,36):\n",
        "    arr2[i] = np.random.choice(arr)\n",
        "\n",
        "  return np.reshape(np.sort(arr2), (12,3), order='F')"
      ],
      "execution_count": 0,
      "outputs": []
    },
    {
      "cell_type": "markdown",
      "metadata": {
        "id": "5SkNP94MmwXy",
        "colab_type": "text"
      },
      "source": [
        "Get unit prices for 3 year committment. 3 year unit prices depend on scale. 3 year unit prices are prorated over 36 months, so the unit price for month 2 is price/36*35 and so on."
      ]
    },
    {
      "cell_type": "code",
      "metadata": {
        "id": "Xu6AqErS77qm",
        "colab_type": "code",
        "colab": {}
      },
      "source": [
        "def get_unitprice_3y(df):\n",
        "  def get_price(x):\n",
        "    if x<=150:\n",
        "      return 1134*3\n",
        "    elif x<=500:\n",
        "      return 1080*3\n",
        "    else:\n",
        "      return 960*3\n",
        "\n",
        "  df = df.applymap(lambda x: get_price(x))\n",
        "  temparr = np.reshape(np.arange(36,0,-1), (12,3), order='F')\n",
        "\n",
        "  for j in np.arange(1,4):\n",
        "    for i in np.arange(1,13):\n",
        "      df.iloc[i-1,j-1] = df.iloc[i-1,j-1]/36*temparr[i-1,j-1]\n",
        "\n",
        "  return df"
      ],
      "execution_count": 0,
      "outputs": []
    },
    {
      "cell_type": "markdown",
      "metadata": {
        "id": "_3oPwZQjnQLI",
        "colab_type": "text"
      },
      "source": [
        "Get one year unit prices. Unit prices are prorated to end of the year. "
      ]
    },
    {
      "cell_type": "code",
      "metadata": {
        "id": "T-lY3G0qkC16",
        "colab_type": "code",
        "colab": {}
      },
      "source": [
        "def get_unitprice_1y():\n",
        "  df = pd.DataFrame(data=np.reshape(np.arange(36,0,-1), (12,3), order='F'), index=np.arange(1,13), columns=[1,2,3])\n",
        "\n",
        "  for j in np.arange(1,4):\n",
        "    for i in np.arange(1,13):\n",
        "      df.iloc[i-1,j-1] = 1199*3/36*df.iloc[i-1,j-1]\n",
        "\n",
        "  return df"
      ],
      "execution_count": 0,
      "outputs": []
    },
    {
      "cell_type": "code",
      "metadata": {
        "id": "kyHz2OHoFy_v",
        "colab_type": "code",
        "colab": {}
      },
      "source": [
        "def simulate_return(x):\n",
        "\n",
        "  df0, df1 = get_units()\n",
        "  df2 = get_unitprice_3y(df0)\n",
        "  df3 = df1 * df2\n",
        "  df4 = get_unitprice_1y()\n",
        "  df5 = df4 * df1\n",
        "  return (df5.sum().sum() - df3.sum().sum()) / df5.sum().sum() * 100, pd.concat([df0, df1, df2, df3, df4, df5], axis=1)"
      ],
      "execution_count": 0,
      "outputs": []
    },
    {
      "cell_type": "code",
      "metadata": {
        "id": "PrW5LcjKMpjq",
        "colab_type": "code",
        "colab": {}
      },
      "source": [
        "ret, df = simulate_return()"
      ],
      "execution_count": 0,
      "outputs": []
    },
    {
      "cell_type": "code",
      "metadata": {
        "id": "_M5oAohDmJKJ",
        "colab_type": "code",
        "colab": {}
      },
      "source": [
        "sim = np.zeros((100,1))\n",
        "\n",
        "for i in np.arange(0,100):\n",
        "  ret, df = simulate_return()\n",
        "  sim[i] = ret"
      ],
      "execution_count": 0,
      "outputs": []
    },
    {
      "cell_type": "code",
      "metadata": {
        "id": "EWfyIfczyT6A",
        "colab_type": "code",
        "outputId": "9c8e8a9e-1470-4386-b587-77458f9c9b09",
        "colab": {
          "base_uri": "https://localhost:8080/",
          "height": 355
        }
      },
      "source": [
        "plt.hist(sim)"
      ],
      "execution_count": 0,
      "outputs": [
        {
          "output_type": "execute_result",
          "data": {
            "text/plain": [
              "(array([ 4., 16., 23., 24., 15., 12.,  2.,  1.,  0.,  3.]),\n",
              " array([7.30268459, 7.44177485, 7.5808651 , 7.71995536, 7.85904561,\n",
              "        7.99813587, 8.13722612, 8.27631637, 8.41540663, 8.55449688,\n",
              "        8.69358714]),\n",
              " <a list of 10 Patch objects>)"
            ]
          },
          "metadata": {
            "tags": []
          },
          "execution_count": 179
        },
        {
          "output_type": "display_data",
          "data": {
            "image/png": "[encoded data removed]",
            "text/plain": [
              "<Figure size 432x288 with 1 Axes>"
            ]
          },
          "metadata": {
            "tags": []
          }
        }
      ]
    },
    {
      "cell_type": "code",
      "metadata": {
        "id": "T4T6V3cxypec",
        "colab_type": "code",
        "outputId": "c0e3c3d5-67cd-4102-f178-1aacf01c0f37",
        "colab": {
          "base_uri": "https://localhost:8080/",
          "height": 35
        }
      },
      "source": [
        "sim.mean()"
      ],
      "execution_count": 0,
      "outputs": [
        {
          "output_type": "execute_result",
          "data": {
            "text/plain": [
              "7.787931699489831"
            ]
          },
          "metadata": {
            "tags": []
          },
          "execution_count": 180
        }
      ]
    },
    {
      "cell_type": "code",
      "metadata": {
        "id": "dAj6gLjty-_J",
        "colab_type": "code",
        "outputId": "def52897-ebe3-4560-a710-939af3b60452",
        "colab": {
          "base_uri": "https://localhost:8080/",
          "height": 404
        }
      },
      "source": [
        "plt.boxplot(sim)"
      ],
      "execution_count": 0,
      "outputs": [
        {
          "output_type": "execute_result",
          "data": {
            "text/plain": [
              "{'boxes': [<matplotlib.lines.Line2D at 0x7f9c06724550>],\n",
              " 'caps': [<matplotlib.lines.Line2D at 0x7f9c06724f60>,\n",
              "  <matplotlib.lines.Line2D at 0x7f9c06731320>],\n",
              " 'fliers': [<matplotlib.lines.Line2D at 0x7f9c06731a20>],\n",
              " 'means': [],\n",
              " 'medians': [<matplotlib.lines.Line2D at 0x7f9c067316a0>],\n",
              " 'whiskers': [<matplotlib.lines.Line2D at 0x7f9c06724860>,\n",
              "  <matplotlib.lines.Line2D at 0x7f9c06724be0>]}"
            ]
          },
          "metadata": {
            "tags": []
          },
          "execution_count": 181
        },
        {
          "output_type": "display_data",
          "data": {
            "image/png": "[encoded data removed]",
            "text/plain": [
              "<Figure size 432x288 with 1 Axes>"
            ]
          },
          "metadata": {
            "tags": []
          }
        }
      ]
    }
  ]
}