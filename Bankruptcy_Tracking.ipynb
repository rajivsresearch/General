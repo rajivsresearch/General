{
  "nbformat": 4,
  "nbformat_minor": 0,
  "metadata": {
    "colab": {
      "name": "Bankruptcy Tracking.ipynb",
      "provenance": [],
      "mount_file_id": "1nUPc4M8y6YEhOibrueEacbu8c6Fc78xq",
      "authorship_tag": "ABX9TyMlf448n/IAEKsTOEVR1+uj",
      "include_colab_link": true
    },
    "kernelspec": {
      "name": "python3",
      "display_name": "Python 3"
    }
  },
  "cells": [
    {
      "cell_type": "markdown",
      "metadata": {
        "id": "view-in-github",
        "colab_type": "text"
      },
      "source": [
        "<a href=\"https://colab.research.google.com/github/rajivsresearch/General/blob/master/Bankruptcy_Tracking.ipynb\" target=\"_parent\"><img src=\"https://colab.research.google.com/assets/colab-badge.svg\" alt=\"Open In Colab\"/></a>"
      ]
    },
    {
      "cell_type": "code",
      "metadata": {
        "id": "iFymPPmVSKmf",
        "colab_type": "code",
        "colab": {
          "base_uri": "https://localhost:8080/",
          "height": 72
        },
        "outputId": "11fd26c2-9bcc-4cdc-ca7e-50a89655f25f"
      },
      "source": [
        "import pandas as pd\n",
        "import numpy as np\n",
        "import matplotlib.pyplot as plt\n",
        "import seaborn as sns"
      ],
      "execution_count": 1,
      "outputs": [
        {
          "output_type": "stream",
          "text": [
            "/usr/local/lib/python3.6/dist-packages/statsmodels/tools/_testing.py:19: FutureWarning: pandas.util.testing is deprecated. Use the functions in the public API at pandas.testing instead.\n",
            "  import pandas.util.testing as tm\n"
          ],
          "name": "stderr"
        }
      ]
    },
    {
      "cell_type": "code",
      "metadata": {
        "id": "v3pASKtoSmt2",
        "colab_type": "code",
        "colab": {}
      },
      "source": [
        "total19 = pd.read_excel('/content/drive/My Drive/Data/Bankruptcies/2019.xlsx', sheet_name='Total')\n",
        "total20 = pd.read_excel('/content/drive/My Drive/Data/Bankruptcies/2020.xlsx', sheet_name='Total')"
      ],
      "execution_count": 0,
      "outputs": []
    },
    {
      "cell_type": "code",
      "metadata": {
        "id": "MZAcovpQTNgt",
        "colab_type": "code",
        "colab": {
          "base_uri": "https://localhost:8080/",
          "height": 237
        },
        "outputId": "31da6c0e-861d-4074-b617-466c9a1da0f1"
      },
      "source": [
        "total19.head()"
      ],
      "execution_count": 27,
      "outputs": [
        {
          "output_type": "execute_result",
          "data": {
            "text/html": [
              "<div>\n",
              "<style scoped>\n",
              "    .dataframe tbody tr th:only-of-type {\n",
              "        vertical-align: middle;\n",
              "    }\n",
              "\n",
              "    .dataframe tbody tr th {\n",
              "        vertical-align: top;\n",
              "    }\n",
              "\n",
              "    .dataframe thead th {\n",
              "        text-align: right;\n",
              "    }\n",
              "</style>\n",
              "<table border=\"1\" class=\"dataframe\">\n",
              "  <thead>\n",
              "    <tr style=\"text-align: right;\">\n",
              "      <th></th>\n",
              "      <th>type</th>\n",
              "      <th>jan</th>\n",
              "      <th>feb</th>\n",
              "      <th>mar</th>\n",
              "      <th>apr</th>\n",
              "      <th>may</th>\n",
              "      <th>jun</th>\n",
              "      <th>jul</th>\n",
              "      <th>aug</th>\n",
              "      <th>sep</th>\n",
              "      <th>oct</th>\n",
              "      <th>nov</th>\n",
              "      <th>dec</th>\n",
              "      <th>province</th>\n",
              "    </tr>\n",
              "  </thead>\n",
              "  <tbody>\n",
              "    <tr>\n",
              "      <th>0</th>\n",
              "      <td>Newfoundland and Labrador/Terre-Neuve et Labrador</td>\n",
              "      <td>212</td>\n",
              "      <td>271</td>\n",
              "      <td>289</td>\n",
              "      <td>343</td>\n",
              "      <td>295</td>\n",
              "      <td>281</td>\n",
              "      <td>280</td>\n",
              "      <td>268</td>\n",
              "      <td>255</td>\n",
              "      <td>264</td>\n",
              "      <td>276</td>\n",
              "      <td>228</td>\n",
              "      <td>Newfoundland and Labrador</td>\n",
              "    </tr>\n",
              "    <tr>\n",
              "      <th>1</th>\n",
              "      <td>Bankruptcies/Faillites</td>\n",
              "      <td>84</td>\n",
              "      <td>124</td>\n",
              "      <td>118</td>\n",
              "      <td>167</td>\n",
              "      <td>130</td>\n",
              "      <td>141</td>\n",
              "      <td>139</td>\n",
              "      <td>113</td>\n",
              "      <td>125</td>\n",
              "      <td>131</td>\n",
              "      <td>134</td>\n",
              "      <td>95</td>\n",
              "      <td></td>\n",
              "    </tr>\n",
              "    <tr>\n",
              "      <th>2</th>\n",
              "      <td>Proposals/Propositions</td>\n",
              "      <td>128</td>\n",
              "      <td>147</td>\n",
              "      <td>171</td>\n",
              "      <td>176</td>\n",
              "      <td>165</td>\n",
              "      <td>140</td>\n",
              "      <td>141</td>\n",
              "      <td>155</td>\n",
              "      <td>130</td>\n",
              "      <td>133</td>\n",
              "      <td>142</td>\n",
              "      <td>133</td>\n",
              "      <td></td>\n",
              "    </tr>\n",
              "    <tr>\n",
              "      <th>3</th>\n",
              "      <td>Prince Edward Island/Île-du-Prince-Édouard</td>\n",
              "      <td>57</td>\n",
              "      <td>54</td>\n",
              "      <td>60</td>\n",
              "      <td>69</td>\n",
              "      <td>76</td>\n",
              "      <td>62</td>\n",
              "      <td>64</td>\n",
              "      <td>66</td>\n",
              "      <td>44</td>\n",
              "      <td>77</td>\n",
              "      <td>71</td>\n",
              "      <td>59</td>\n",
              "      <td>Prince Edward Island</td>\n",
              "    </tr>\n",
              "    <tr>\n",
              "      <th>4</th>\n",
              "      <td>Bankruptcies/Faillites</td>\n",
              "      <td>35</td>\n",
              "      <td>27</td>\n",
              "      <td>30</td>\n",
              "      <td>40</td>\n",
              "      <td>37</td>\n",
              "      <td>28</td>\n",
              "      <td>39</td>\n",
              "      <td>31</td>\n",
              "      <td>22</td>\n",
              "      <td>34</td>\n",
              "      <td>38</td>\n",
              "      <td>34</td>\n",
              "      <td></td>\n",
              "    </tr>\n",
              "  </tbody>\n",
              "</table>\n",
              "</div>"
            ],
            "text/plain": [
              "                                                type  ...                   province\n",
              "0  Newfoundland and Labrador/Terre-Neuve et Labrador  ...  Newfoundland and Labrador\n",
              "1                             Bankruptcies/Faillites  ...                           \n",
              "2                             Proposals/Propositions  ...                           \n",
              "3         Prince Edward Island/Île-du-Prince-Édouard  ...       Prince Edward Island\n",
              "4                             Bankruptcies/Faillites  ...                           \n",
              "\n",
              "[5 rows x 14 columns]"
            ]
          },
          "metadata": {
            "tags": []
          },
          "execution_count": 27
        }
      ]
    },
    {
      "cell_type": "code",
      "metadata": {
        "id": "J7vtk6i9UFj8",
        "colab_type": "code",
        "colab": {}
      },
      "source": [
        "total19.columns = ['type', 'jan', 'feb', 'mar', 'apr', 'may', 'jun', 'jul', 'aug', 'sep', 'oct', 'nov', 'dec']\n",
        "total20.columns = ['type', 'jan', 'feb', 'mar', 'apr', 'may', 'jun', 'jul', 'aug', 'sep', 'oct', 'nov', 'dec']"
      ],
      "execution_count": 0,
      "outputs": []
    },
    {
      "cell_type": "code",
      "metadata": {
        "id": "OLGzsVvRVNKB",
        "colab_type": "code",
        "colab": {}
      },
      "source": [
        "def get_province(x):\n",
        "  if x.find('Bankruptcies') >= 0:\n",
        "    return ''\n",
        "  elif x.find('Proposals') >= 0:\n",
        "    return ''\n",
        "  else:\n",
        "    return x.split('/')[0]"
      ],
      "execution_count": 0,
      "outputs": []
    },
    {
      "cell_type": "code",
      "metadata": {
        "id": "Q5DDZK3RVi-8",
        "colab_type": "code",
        "colab": {
          "base_uri": "https://localhost:8080/",
          "height": 35
        },
        "outputId": "9964d6e2-181f-4781-d3ad-ecf29d8f3815"
      },
      "source": [
        "get_province('Newfoundland and Labrador/Terre-Neuve et Labrador')"
      ],
      "execution_count": 24,
      "outputs": [
        {
          "output_type": "execute_result",
          "data": {
            "text/plain": [
              "'Newfoundland and Labrador'"
            ]
          },
          "metadata": {
            "tags": []
          },
          "execution_count": 24
        }
      ]
    },
    {
      "cell_type": "code",
      "metadata": {
        "id": "kfLpQfIDUoa-",
        "colab_type": "code",
        "colab": {}
      },
      "source": [
        "total19['province'] = total19['type'].apply(lambda x: get_province(x))\n",
        "total20['province'] = total20['type'].apply(lambda x: get_province(x))"
      ],
      "execution_count": 0,
      "outputs": []
    },
    {
      "cell_type": "code",
      "metadata": {
        "id": "FmN4NkpbW42_",
        "colab_type": "code",
        "colab": {
          "base_uri": "https://localhost:8080/",
          "height": 337
        },
        "outputId": "ab740884-ebb9-4e34-b057-7a741dffc67c"
      },
      "source": [
        "f1 = total19['province'] != ''\n",
        "g19 = total19.loc[f1,['province', 'jan', 'feb']].groupby('province').sum()\n",
        "g20 = total20.loc[f1,['province', 'jan', 'feb']].groupby('province').sum()\n",
        "\n",
        "fig,ax = plt.subplots(1,2,figsize=(16,6))\n",
        "plt.subplot(121)\n",
        "sns.heatmap((g20 - g19), cmap='Blues', annot=True, fmt='g')\n",
        "plt.title('Difference in Total Bankruptcies in 2020 vs. 2019 ')\n",
        "\n",
        "plt.subplot(122)\n",
        "sns.heatmap(((g20 - g19)/g19*100), cmap='Blues', annot=True, fmt='.2g')\n",
        "plt.title('Percent Difference in Total Bankruptcies in 2020 vs. 2019 ')\n",
        "\n",
        "plt.tight_layout()"
      ],
      "execution_count": 66,
      "outputs": [
        {
          "output_type": "display_data",
          "data": {
            "image/png": "[encoded data removed]",
            "text/plain": [
              "<Figure size 1152x432 with 4 Axes>"
            ]
          },
          "metadata": {
            "tags": [],
            "needs_background": "light"
          }
        }
      ]
    }
  ]
}