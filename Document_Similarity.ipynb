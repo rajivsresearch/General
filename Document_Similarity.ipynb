{
  "nbformat": 4,
  "nbformat_minor": 0,
  "metadata": {
    "colab": {
      "name": "Document Similarity.ipynb",
      "provenance": [],
      "authorship_tag": "ABX9TyNT0Vz1tUFbmWHTJTSeOL7C",
      "include_colab_link": true
    },
    "kernelspec": {
      "name": "python3",
      "display_name": "Python 3"
    }
  },
  "cells": [
    {
      "cell_type": "markdown",
      "metadata": {
        "id": "view-in-github",
        "colab_type": "text"
      },
      "source": [
        "<a href=\"https://colab.research.google.com/github/rajivsresearch/General/blob/master/Document_Similarity.ipynb\" target=\"_parent\"><img src=\"https://colab.research.google.com/assets/colab-badge.svg\" alt=\"Open In Colab\"/></a>"
      ]
    },
    {
      "cell_type": "code",
      "metadata": {
        "id": "MMb5cPQxm1ep",
        "colab_type": "code",
        "colab": {}
      },
      "source": [
        "import nltk, string\n",
        "from sklearn.feature_extraction.text import TfidfVectorizer\n",
        "import seaborn as sns\n",
        "import matplotlib.pyplot as plt\n",
        "import numpy as np"
      ],
      "execution_count": 0,
      "outputs": []
    },
    {
      "cell_type": "code",
      "metadata": {
        "id": "BWySsWGxvsGu",
        "colab_type": "code",
        "colab": {
          "base_uri": "https://localhost:8080/",
          "height": 67
        },
        "outputId": "7b1863c3-98b5-4f89-a6bd-841264467cc9"
      },
      "source": [
        "nltk.download('punkt')"
      ],
      "execution_count": 53,
      "outputs": [
        {
          "output_type": "stream",
          "text": [
            "[nltk_data] Downloading package punkt to /root/nltk_data...\n",
            "[nltk_data]   Unzipping tokenizers/punkt.zip.\n"
          ],
          "name": "stdout"
        },
        {
          "output_type": "execute_result",
          "data": {
            "text/plain": [
              "True"
            ]
          },
          "metadata": {
            "tags": []
          },
          "execution_count": 53
        }
      ]
    },
    {
      "cell_type": "code",
      "metadata": {
        "id": "WE-aAhdNutNE",
        "colab_type": "code",
        "colab": {}
      },
      "source": [
        "stemmer = nltk.stem.porter.PorterStemmer()\n",
        "remove_punctuation_map = dict((ord(char), None) for char in string.punctuation)"
      ],
      "execution_count": 0,
      "outputs": []
    },
    {
      "cell_type": "code",
      "metadata": {
        "id": "fXKK8FSEu1NJ",
        "colab_type": "code",
        "colab": {}
      },
      "source": [
        "def stem_tokens(tokens):\n",
        "    return [stemmer.stem(item) for item in tokens]"
      ],
      "execution_count": 0,
      "outputs": []
    },
    {
      "cell_type": "code",
      "metadata": {
        "id": "WCN0Rb3Yu3S-",
        "colab_type": "code",
        "colab": {}
      },
      "source": [
        "'''remove punctuation, lowercase, stem'''\n",
        "def normalize(text):\n",
        "    return stem_tokens(nltk.word_tokenize(text.lower().translate(remove_punctuation_map)))"
      ],
      "execution_count": 0,
      "outputs": []
    },
    {
      "cell_type": "code",
      "metadata": {
        "id": "hpapOo5Pm5NJ",
        "colab_type": "code",
        "colab": {}
      },
      "source": [
        "vectorizer = TfidfVectorizer(tokenizer=normalize, stop_words='english')"
      ],
      "execution_count": 0,
      "outputs": []
    },
    {
      "cell_type": "code",
      "metadata": {
        "id": "E64OsspDm5B3",
        "colab_type": "code",
        "colab": {}
      },
      "source": [
        "def cosine_sim(text1, text2):\n",
        "    tfidf = vectorizer.fit_transform([text1, text2])\n",
        "    return ((tfidf * tfidf.T).A)[0,1]"
      ],
      "execution_count": 0,
      "outputs": []
    },
    {
      "cell_type": "code",
      "metadata": {
        "id": "cz_NahFAkhJH",
        "colab_type": "code",
        "colab": {}
      },
      "source": [
        "corpus1 = [\"The term of the Agreement is five years the Initial Term\", \n",
        "          \"with two options to renew of twenty four months each the Renewal term\", \n",
        "          \"Together the Initial Term and Renewal Term are called the Term\", \n",
        "          \"Company will provide 30 days notice\", \n",
        "          \"prior to end of Term and Renewal Term\"]\n",
        "\n",
        "corpus2 = [\"The term of the Agreement is three years the Initial Term\", \n",
        "          \"with two options to renew of twelve months each the Renewal term\", \n",
        "          \"Together the Initial Term and Renewal Term are called the Term\", \n",
        "          \"Company will provide 90 days notice\", \n",
        "          \"prior to end of Term and Renewal Term\"]"
      ],
      "execution_count": 0,
      "outputs": []
    },
    {
      "cell_type": "code",
      "metadata": {
        "id": "ln-wb93k4Bl3",
        "colab_type": "code",
        "colab": {}
      },
      "source": [
        "para1 = ''\n",
        "for sent1 in corpus1:\n",
        "  para1 = para1 + sent1 + ' '\n",
        "\n",
        "para2 = ''\n",
        "for sent2 in corpus2:\n",
        "  para2 = para2 + sent2 + ' '"
      ],
      "execution_count": 0,
      "outputs": []
    },
    {
      "cell_type": "code",
      "metadata": {
        "id": "LpzVK4cY4x6S",
        "colab_type": "code",
        "colab": {
          "base_uri": "https://localhost:8080/",
          "height": 34
        },
        "outputId": "c258ce64-7b74-4f23-c1c5-a62fad74b364"
      },
      "source": [
        "cosine_sim(para1, para2)"
      ],
      "execution_count": 80,
      "outputs": [
        {
          "output_type": "execute_result",
          "data": {
            "text/plain": [
              "0.9600744030718624"
            ]
          },
          "metadata": {
            "tags": []
          },
          "execution_count": 80
        }
      ]
    }
  ]
}