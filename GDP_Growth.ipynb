{
  "nbformat": 4,
  "nbformat_minor": 0,
  "metadata": {
    "colab": {
      "name": "GDP Growth.ipynb",
      "provenance": [],
      "authorship_tag": "ABX9TyMf+VrAYKGPVQoZuJ5uIr57",
      "include_colab_link": true
    },
    "kernelspec": {
      "name": "python3",
      "display_name": "Python 3"
    }
  },
  "cells": [
    {
      "cell_type": "markdown",
      "metadata": {
        "id": "view-in-github",
        "colab_type": "text"
      },
      "source": [
        "<a href=\"https://colab.research.google.com/github/rajivsresearch/General/blob/master/GDP_Growth.ipynb\" target=\"_parent\"><img src=\"https://colab.research.google.com/assets/colab-badge.svg\" alt=\"Open In Colab\"/></a>"
      ]
    },
    {
      "cell_type": "markdown",
      "metadata": {
        "id": "TY2q7Zz_U9ol",
        "colab_type": "text"
      },
      "source": [
        "## Simulate GDP Forecast from Q2 2030 through Q4 2021"
      ]
    },
    {
      "cell_type": "code",
      "metadata": {
        "id": "zIkHw4Ls8sV9",
        "colab_type": "code",
        "colab": {
          "base_uri": "https://localhost:8080/",
          "height": 72
        },
        "outputId": "656e752a-6a3a-4559-e170-0d464e7d903c"
      },
      "source": [
        "import pandas as pd\n",
        "import matplotlib.pyplot as plt\n",
        "import seaborn as sns\n",
        "import numpy as np"
      ],
      "execution_count": 1,
      "outputs": [
        {
          "output_type": "stream",
          "text": [
            "/usr/local/lib/python3.6/dist-packages/statsmodels/tools/_testing.py:19: FutureWarning: pandas.util.testing is deprecated. Use the functions in the public API at pandas.testing instead.\n",
            "  import pandas.util.testing as tm\n"
          ],
          "name": "stderr"
        }
      ]
    },
    {
      "cell_type": "markdown",
      "metadata": {
        "id": "kSTJbY46VOd9",
        "colab_type": "text"
      },
      "source": [
        "Read a file that has the Quarter over Quarter GDP growth from Q1 2010. The data is from [OECD](https://data.oecd.org/gdp/quarterly-gdp.htm)."
      ]
    },
    {
      "cell_type": "code",
      "metadata": {
        "id": "oodUa3Vg9D6B",
        "colab_type": "code",
        "colab": {}
      },
      "source": [
        "gdp = pd.read_excel('/content/Growth.xlsx')"
      ],
      "execution_count": 0,
      "outputs": []
    },
    {
      "cell_type": "code",
      "metadata": {
        "id": "eC_iSAPr9pRg",
        "colab_type": "code",
        "colab": {
          "base_uri": "https://localhost:8080/",
          "height": 202
        },
        "outputId": "ecb6922c-0e76-4ad7-8ccc-9298810346d9"
      },
      "source": [
        "gdp.head()"
      ],
      "execution_count": 13,
      "outputs": [
        {
          "output_type": "execute_result",
          "data": {
            "text/html": [
              "<div>\n",
              "<style scoped>\n",
              "    .dataframe tbody tr th:only-of-type {\n",
              "        vertical-align: middle;\n",
              "    }\n",
              "\n",
              "    .dataframe tbody tr th {\n",
              "        vertical-align: top;\n",
              "    }\n",
              "\n",
              "    .dataframe thead th {\n",
              "        text-align: right;\n",
              "    }\n",
              "</style>\n",
              "<table border=\"1\" class=\"dataframe\">\n",
              "  <thead>\n",
              "    <tr style=\"text-align: right;\">\n",
              "      <th></th>\n",
              "      <th>Growth</th>\n",
              "      <th>Quarter</th>\n",
              "      <th>Year</th>\n",
              "      <th>GDP</th>\n",
              "    </tr>\n",
              "  </thead>\n",
              "  <tbody>\n",
              "    <tr>\n",
              "      <th>0</th>\n",
              "      <td>0.38</td>\n",
              "      <td>Q1</td>\n",
              "      <td>2010</td>\n",
              "      <td>100.380000</td>\n",
              "    </tr>\n",
              "    <tr>\n",
              "      <th>1</th>\n",
              "      <td>0.92</td>\n",
              "      <td>Q2</td>\n",
              "      <td>2010</td>\n",
              "      <td>101.303496</td>\n",
              "    </tr>\n",
              "    <tr>\n",
              "      <th>2</th>\n",
              "      <td>0.74</td>\n",
              "      <td>Q3</td>\n",
              "      <td>2010</td>\n",
              "      <td>102.053142</td>\n",
              "    </tr>\n",
              "    <tr>\n",
              "      <th>3</th>\n",
              "      <td>0.50</td>\n",
              "      <td>Q4</td>\n",
              "      <td>2010</td>\n",
              "      <td>102.563408</td>\n",
              "    </tr>\n",
              "    <tr>\n",
              "      <th>4</th>\n",
              "      <td>-0.24</td>\n",
              "      <td>Q1</td>\n",
              "      <td>2011</td>\n",
              "      <td>102.317255</td>\n",
              "    </tr>\n",
              "  </tbody>\n",
              "</table>\n",
              "</div>"
            ],
            "text/plain": [
              "   Growth Quarter  Year         GDP\n",
              "0    0.38      Q1  2010  100.380000\n",
              "1    0.92      Q2  2010  101.303496\n",
              "2    0.74      Q3  2010  102.053142\n",
              "3    0.50      Q4  2010  102.563408\n",
              "4   -0.24      Q1  2011  102.317255"
            ]
          },
          "metadata": {
            "tags": []
          },
          "execution_count": 13
        }
      ]
    },
    {
      "cell_type": "markdown",
      "metadata": {
        "id": "lGcDPzqeV15r",
        "colab_type": "text"
      },
      "source": [
        "Initialize a new column called GDP"
      ]
    },
    {
      "cell_type": "code",
      "metadata": {
        "id": "OJJb3O6R9sVl",
        "colab_type": "code",
        "colab": {}
      },
      "source": [
        "gdp.loc[:,'GDP']  = 0"
      ],
      "execution_count": 0,
      "outputs": []
    },
    {
      "cell_type": "markdown",
      "metadata": {
        "id": "wAUUSVr-V8t7",
        "colab_type": "text"
      },
      "source": [
        "Calculate GDP starting with a fictitious GDP of 100 in Quarter -1"
      ]
    },
    {
      "cell_type": "code",
      "metadata": {
        "id": "pOLfJyH6-j-P",
        "colab_type": "code",
        "colab": {}
      },
      "source": [
        "for i in np.arange(0,len(gdp)):\n",
        "  if i==0:\n",
        "    gdp.iloc[i,3] = 100 + 100*gdp.iloc[i,0]/100\n",
        "  else:\n",
        "    gdp.iloc[i,3] = gdp.iloc[i-1,3] + gdp.iloc[i-1,3]*gdp.iloc[i,0]/100"
      ],
      "execution_count": 0,
      "outputs": []
    },
    {
      "cell_type": "markdown",
      "metadata": {
        "id": "BuTdcmHmWE9W",
        "colab_type": "text"
      },
      "source": [
        "Here is a plot of the calculated GDP"
      ]
    },
    {
      "cell_type": "code",
      "metadata": {
        "id": "Q3iITA8y_g5q",
        "colab_type": "code",
        "colab": {
          "base_uri": "https://localhost:8080/",
          "height": 381
        },
        "outputId": "6360e97a-24eb-49f5-eba5-e47fb5c31e22"
      },
      "source": [
        "fig, ax = plt.subplots(figsize=(8,6))\n",
        "gdp['GDP'].plot(kind='bar', ylim=(100,130))\n",
        "plt.grid()"
      ],
      "execution_count": 27,
      "outputs": [
        {
          "output_type": "display_data",
          "data": {
            "image/png": "[encoded data removed]",
            "text/plain": [
              "<Figure size 576x432 with 1 Axes>"
            ]
          },
          "metadata": {
            "tags": [],
            "needs_background": "light"
          }
        }
      ]
    },
    {
      "cell_type": "markdown",
      "metadata": {
        "id": "WVq0UeBqWKYS",
        "colab_type": "text"
      },
      "source": [
        "This function will create provide fictitious GDP growth estimates over the next several quarters. Nobody knows how the GDP will fall and then rise. We will make some assumptions:\n",
        "\n",
        "1. The function will assume an initial fall in GDP in Q2 of 2020. \n",
        "2. The function will assume that the subsequent rise in GDP will be half the growth of the previous quarter"
      ]
    },
    {
      "cell_type": "code",
      "metadata": {
        "id": "ZNWLjTjJHOJY",
        "colab_type": "code",
        "colab": {}
      },
      "source": [
        "def series(fall, n):\n",
        "  ser = np.zeros((7))\n",
        "  ser[0] = fall\n",
        "  ser[1] = -1*fall/2\n",
        "  for i in range(2,n):\n",
        "    ser[i] = ser[i-1]/2\n",
        "  return ser"
      ],
      "execution_count": 0,
      "outputs": []
    },
    {
      "cell_type": "markdown",
      "metadata": {
        "id": "FBU3fyjeXFuz",
        "colab_type": "text"
      },
      "source": [
        "So for a 10 percent drop in Q2, 2020, the growth in subsequent quarters is as follows:"
      ]
    },
    {
      "cell_type": "code",
      "metadata": {
        "id": "8RLDMANZJ5AS",
        "colab_type": "code",
        "colab": {
          "base_uri": "https://localhost:8080/",
          "height": 52
        },
        "outputId": "9f49c76a-51f2-4da5-f1b9-7a971b73f132"
      },
      "source": [
        "series(-10,7)"
      ],
      "execution_count": 51,
      "outputs": [
        {
          "output_type": "execute_result",
          "data": {
            "text/plain": [
              "array([-10.     ,   5.     ,   2.5    ,   1.25   ,   0.625  ,   0.3125 ,\n",
              "         0.15625])"
            ]
          },
          "metadata": {
            "tags": []
          },
          "execution_count": 51
        }
      ]
    },
    {
      "cell_type": "markdown",
      "metadata": {
        "id": "EKMHRwOgXQ2e",
        "colab_type": "text"
      },
      "source": [
        "This function will calculate the GDP in the next 7 quarters and plot it"
      ]
    },
    {
      "cell_type": "code",
      "metadata": {
        "id": "K_EP4xkZDn5e",
        "colab_type": "code",
        "colab": {}
      },
      "source": [
        "def simulategdp(fall):\n",
        "  gdpf = pd.DataFrame(columns=gdp.columns.values, index=[41,42,43,44,45,46,47])\n",
        "  gdpf['Quarter'] = ['Q2', 'Q3', 'Q4', 'Q1', 'Q2', 'Q3', 'Q4']\n",
        "  gdpf['Year'] = [2020, 2020, 2020, 2021, 2021, 2021, 2021]\n",
        "  gdpf['Growth'] = series(fall,7)\n",
        "\n",
        "  for i in np.arange(0,len(gdpf)):\n",
        "    if i==0:\n",
        "      gdpf.iloc[i,3] = gdp.iloc[-1,3] + gdp.iloc[-1,3]*gdpf.iloc[i,0]/100\n",
        "    else:\n",
        "      gdpf.iloc[i,3] = gdpf.iloc[i-1,3] + gdpf.iloc[i-1,3]*gdpf.iloc[i,0]/100\n",
        "\n",
        "  df = pd.concat([gdp,gdpf], axis=0)\n",
        "  fig, ax = plt.subplots(figsize=(12,6))\n",
        "  bar = df['GDP'].plot(kind='bar', ylim=(df['GDP'].min()-10,130), ax=ax, \n",
        "                                                color=list('r'*41+'b'*7))\n",
        "  \n",
        "  labels=df.apply(lambda x: x['Quarter'] + ' ' + str(x['Year']), axis=1)\n",
        "  ax.set_xticklabels(labels)\n",
        "  ax.hlines(df.loc[47,'GDP'],20,47)\n",
        "  plt.title(f'GDP Forecase for next 7 Quarters assuming a 2Q fall of {fall} %')"
      ],
      "execution_count": 0,
      "outputs": []
    },
    {
      "cell_type": "markdown",
      "metadata": {
        "id": "8CO6yehKXZxw",
        "colab_type": "text"
      },
      "source": [
        "If we assume a fall of 10 percent in Q2 2020, and a sebsequent rapid rise will result in the following plot. This will set us back to Q4 2018 after a growth of 6 quarters."
      ]
    },
    {
      "cell_type": "code",
      "metadata": {
        "id": "Hs1sgKthLm21",
        "colab_type": "code",
        "colab": {
          "base_uri": "https://localhost:8080/",
          "height": 423
        },
        "outputId": "5645f220-1296-4cbe-c1fb-897da266d308"
      },
      "source": [
        "simulategdp(-10)"
      ],
      "execution_count": 113,
      "outputs": [
        {
          "output_type": "display_data",
          "data": {
            "image/png": "[encoded data removed]",
            "text/plain": [
              "<Figure size 864x432 with 1 Axes>"
            ]
          },
          "metadata": {
            "tags": [],
            "needs_background": "light"
          }
        }
      ]
    },
    {
      "cell_type": "markdown",
      "metadata": {
        "id": "oGR6xsTlXzAj",
        "colab_type": "text"
      },
      "source": [
        "A 20% fall will set us back to Q4 2017"
      ]
    },
    {
      "cell_type": "code",
      "metadata": {
        "id": "5EPh4d7IRdIk",
        "colab_type": "code",
        "colab": {
          "base_uri": "https://localhost:8080/",
          "height": 423
        },
        "outputId": "5758ed57-6dff-4c0f-f2da-b0fd64420c56"
      },
      "source": [
        "simulategdp(-20)"
      ],
      "execution_count": 114,
      "outputs": [
        {
          "output_type": "display_data",
          "data": {
            "image/png": "[encoded data removed]",
            "text/plain": [
              "<Figure size 864x432 with 1 Axes>"
            ]
          },
          "metadata": {
            "tags": [],
            "needs_background": "light"
          }
        }
      ]
    },
    {
      "cell_type": "markdown",
      "metadata": {
        "id": "NS54GNKJX6aM",
        "colab_type": "text"
      },
      "source": [
        "A 30% fall will set us back to Q1 2016"
      ]
    },
    {
      "cell_type": "code",
      "metadata": {
        "id": "BIZJ1abDT36N",
        "colab_type": "code",
        "colab": {
          "base_uri": "https://localhost:8080/",
          "height": 423
        },
        "outputId": "2d73c878-2d2f-4505-c123-045c5ca2ed4d"
      },
      "source": [
        "simulategdp(-30)"
      ],
      "execution_count": 115,
      "outputs": [
        {
          "output_type": "display_data",
          "data": {
            "image/png": "[encoded data removed]",
            "text/plain": [
              "<Figure size 864x432 with 1 Axes>"
            ]
          },
          "metadata": {
            "tags": [],
            "needs_background": "light"
          }
        }
      ]
    },
    {
      "cell_type": "markdown",
      "metadata": {
        "id": "A1lc0Dj0YI7m",
        "colab_type": "text"
      },
      "source": [
        "A 40% drop will set us back to Q3 2013. "
      ]
    },
    {
      "cell_type": "code",
      "metadata": {
        "id": "vZBrqt3GYCrm",
        "colab_type": "code",
        "colab": {
          "base_uri": "https://localhost:8080/",
          "height": 423
        },
        "outputId": "97c54bd5-06d8-4fe3-e35b-be726d3eebc8"
      },
      "source": [
        "simulategdp(-40)"
      ],
      "execution_count": 116,
      "outputs": [
        {
          "output_type": "display_data",
          "data": {
            "image/png": "[encoded data removed]",
            "text/plain": [
              "<Figure size 864x432 with 1 Axes>"
            ]
          },
          "metadata": {
            "tags": [],
            "needs_background": "light"
          }
        }
      ]
    }
  ]
}